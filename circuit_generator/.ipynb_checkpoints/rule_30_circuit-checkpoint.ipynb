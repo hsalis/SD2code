{
 "cells": [
  {
   "cell_type": "code",
   "execution_count": 1,
   "metadata": {
    "collapsed": true
   },
   "outputs": [],
   "source": [
    "import numpy as np\n",
    "from scipy.integrate import odeint\n",
    "import math\n",
    "import random\n",
    "import time\n",
    "import matplotlib\n",
    "matplotlib.rcParams.update({'font.size': 25})\n",
    "matplotlib.rc('xtick', labelsize=20) \n",
    "matplotlib.rc('ytick', labelsize=20) \n",
    "import matplotlib.pyplot as plt"
   ]
  },
  {
   "cell_type": "code",
   "execution_count": 2,
   "metadata": {
    "collapsed": true
   },
   "outputs": [],
   "source": [
    "d_m=math.log(2)/5\n",
    "d_p=math.log(2)/600\n",
    "B=0.1\n",
    "R=1\n",
    "T=1\n",
    "factor=2 #conv sec to min\n",
    "features={\n",
    "    #RNAP binding free energy, kcal/mol\n",
    "    'dG_RNAP':{\"offtarget\":-4*R,\n",
    "                 \"Phlf\":-4.7*R,\n",
    "                 \"Srpr\":-4.4*R,\n",
    "                 \"BetI\":-4.7*R,#\n",
    "                 \"HlyllR\":-4.7*R,\n",
    "                 \"AmtR\":-4.8*R,\n",
    "                 \"LacI\":-4.5*R,#\n",
    "                 \"TetR\":-4.7*R,#\n",
    "                 \"AraC\":-4.5*R,#\n",
    "                 \"Con_A\":-4*R,#\n",
    "                 \"Con_I\":-4*R,#\n",
    "                 \"KanR\":-4*R,#\n",
    "                 \"StrepR\":-4*R#\n",
    "                },#tbd\n",
    "    #TF binding free energy, kcal/mol\n",
    "    'dG_TF':{\"offtarget\":-4*T,\n",
    "                 \"Phlf\":-9*T,\n",
    "                 \"Srpr\":-7.5*T,\n",
    "                 \"BetI\":-8*T,#\n",
    "                 \"HlyllR\":-6.5*T,\n",
    "                 \"AmtR\":-9*T,\n",
    "                 \"TetR\":-7.5*T,#\n",
    "                 \"AraC\":-8*T,#\n",
    "                 \"LacI\":-8*T#\n",
    "                }, #tbd\n",
    "    #inactive binding free energy\n",
    "    'dG_Inactive':{'TetR':-2.0,#\n",
    "                  'LacI':-2.0,#\n",
    "                  'AraC':-2.0},#\n",
    "    #mRNA deg rate, 1/min\n",
    "    'd_mRNA':{\"Phlf\":d_m,#\n",
    "                  \"Srpr\":d_m,#\n",
    "                  \"BetI\":d_m,#\n",
    "                  \"HlyllR\":d_m,#\n",
    "                  \"AmtR\":d_m,#\n",
    "                  \"YFP\":d_m,#\n",
    "                  \"LacI_TetR\":d_m,#\n",
    "                  \"AraC\":d_m,#\n",
    "                  \"KanR\":d_m,#\n",
    "                  \"StrepR\":d_m #\n",
    "                }, #tbd github/cidarlab?\n",
    "    #Translation rate, protein/mRNA/min\n",
    "    'beta':{\"Phlf\":1,#\n",
    "                  \"Srpr\":1,#\n",
    "                  \"BetI\":1,#\n",
    "                  \"HlyllR\":1,#\n",
    "                  \"AmtR\":1,#\n",
    "                  \"YFP\":1,#\n",
    "                  \"LacI\":1,#\n",
    "                  \"AraC\":1,#\n",
    "                  \"TetR\":1,#\n",
    "                  \"KanR\":1,#\n",
    "                  \"StrepR\":1#\n",
    "                },\n",
    "#TIRS from RBS calc converted to proteins/mrna/min\n",
    " #   'beta':{\"Phlf\":0.36*B,#\n",
    " #                 \"Srpr\":5*B,#\n",
    " #                 \"BetI\":1.6*B,#\n",
    " #                 \"HlyllR\":0.13*B,#\n",
    " #                 \"AmtR\":1.35*B,#\n",
    " #                 \"YFP\":0.28*B,#\n",
    " #                 \"LacI\":44*B,#\n",
    " #                 \"AraC\":32*B,#\n",
    " #                 \"TetR\":61*B,#\n",
    " #                 \"KanR\":37*B,#\n",
    " #                 \"StrepR\":0.24*B#\n",
    " #               },\n",
    "    #number of TF binding sites in promoter\n",
    "    'N_ontarget':{\"Phlf\":5,#\n",
    "                  \"Srpr\":10,#\n",
    "                  \"BetI\":10,#\n",
    "                  \"HlyllR\":20,#\n",
    "                  \"AmtR\":5,#\n",
    "                  \"LacI\":10,#\n",
    "                  \"TetR\":10,#\n",
    "                  \"AraC\":20,#\n",
    "                }, #tbd\n",
    "    # number of free RNAP\n",
    "    'N_RNAP':750,#\n",
    "    # number of free Ribosomes\n",
    "    'N_RIBO':1000, #\n",
    "    #protein deg rates, 1/min\n",
    "    'd_Protein':{\"Phlf\":d_p,#\n",
    "                  \"Srpr\":d_p,#\n",
    "                  \"BetI\":d_p,#\n",
    "                  \"HlyllR\":d_p,#\n",
    "                  \"AmtR\":d_p,#\n",
    "                  \"YFP\":d_p,#\n",
    "                  \"LacI\":d_p,#\n",
    "                  \"AraC\":d_p,#\n",
    "                  \"TetR\":d_p,#\n",
    "                  \"KanR\":d_p,#\n",
    "                  \"StrepR\":d_p#\n",
    "                }, #tbd\n",
    "    #growth rate, 1/min\n",
    "    'mu':math.log(2)/45, #tbd\n",
    "    #max promoter transcription rate mRNA/promoter/min\n",
    "    'a_max':{\"Phlf\":3*factor,\n",
    "                  \"Srpr\":3*factor,\n",
    "                  \"BetI\":1.7*factor,#\n",
    "                  \"HlyllR\":2.5*factor,\n",
    "                  \"AmtR\":1.5*factor,\n",
    "                  \"LacI\":2*factor,#\n",
    "                  \"TetR\":3*factor,#\n",
    "                  \"AraC\":2*factor,#\n",
    "                  \"Con_A\":1*factor,\n",
    "                  \"Con_I\":1*factor,\n",
    "                  \"KanR\":2*factor,\n",
    "                  \"StrepR\":2*factor\n",
    "                },\n",
    "    #genome length\n",
    "    'genome_len':4600000,\n",
    "    #copy number of circuit    \n",
    "    \"copy_number\":{\"Phlf\":10,\n",
    "                  \"Srpr\":10,\n",
    "                  \"BetI\":10,\n",
    "                  \"HlyllR\":10,\n",
    "                  \"AmtR\":10,\n",
    "                  \"YFP\":5,\n",
    "                  \"LacI_TetR\":10,\n",
    "                  \"AraC\":10,\n",
    "                  \"KanR\":10,\n",
    "                  \"StrepR\":5},\n",
    "    \n",
    "    #inducer concentrations used mM\n",
    "    'inducers':{'AraC':0,\n",
    "                'TetR':0,\n",
    "                'LacI':0\n",
    "                },\n",
    "    #kd of inducers\n",
    "    'iKd':{'AraC': 0.05,#\n",
    "           'LacI': 0.05,#\n",
    "           'TetR':0.005 #\n",
    "                },\n",
    "    # temperature\n",
    "    'T':310,\n",
    "    \n",
    "    'co_op':{\"Phlf\":1,#\n",
    "                  \"Srpr\":1,#\n",
    "                  \"BetI\":1,#\n",
    "                  \"HlyllR\":1,#\n",
    "                  \"AmtR\":1,#\n",
    "                  \"LacI\":1,#\n",
    "                  \"TetR\":1,#\n",
    "                  \"AraC\":2,}\n",
    "    \n",
    "    }\n",
    "\n",
    "#cooperativity\n",
    "#    'co_op':{'AraC':2,#\n",
    "#             'LacI':2,#\n",
    "#             'TetR':2#\n",
    "#                },\n",
    "#kd for hill functions\n",
    "#'Kd':{'AraC':5,#\n",
    "#          'LacI':5,#\n",
    "#          'TetR':5}"
   ]
  },
  {
   "cell_type": "code",
   "execution_count": 3,
   "metadata": {
    "collapsed": true
   },
   "outputs": [],
   "source": [
    "def Partition_fxn(a_max,dG_RNAP,N_RNAP,dG_TFoff,dG_Active,dG_Inactive, \n",
    "                  N_Bindingsites,cooperativity,N_Repressors,fractionActive,genome_len,T):\n",
    "    RT=T*1.987/1000 #temperature(kelvin)*R(kcal/K/mol)\n",
    "\n",
    "    P_RNAP=N_RNAP*math.exp(-dG_RNAP/RT)/genome_len\n",
    "    P_Active=((1 + N_Repressors * fractionActive * math.exp(- (dG_Active)) / genome_len)**N_Bindingsites) - 1\n",
    "    P_Inactive=((1 + N_Repressors * (1 - fractionActive) * math.exp(-(dG_Inactive)) / genome_len)**N_Bindingsites) -1;\n",
    "    \n",
    "    if cooperativity>1:\n",
    "        Pbound=P_RNAP / (1 + P_RNAP + cooperativity*(P_Active + P_Inactive)+(P_Active + P_Inactive)**cooperativity)\n",
    "    else:\n",
    "        Pbound=P_RNAP / (1 + P_RNAP + (P_Active + P_Inactive))\n",
    "    alpha=a_max*Pbound\n",
    "    return alpha\n",
    "\n",
    "def Hill_function_R(a_max,Kd,cooperativity,N_Repressor):\n",
    "    alpha = a_max/(1 + (N_Repressor/Kd)**cooperativity);\n",
    "    return alpha\n",
    "\n",
    "def Hill_function_A(a_max,Ka,cooperativity,N_Activator):\n",
    "    alpha = a_max*((N_Activator)**cooperativity)/(Ka**cooperativity + (N_Repressor)**cooperativity);\n",
    "    return alpha"
   ]
  },
  {
   "cell_type": "code",
   "execution_count": 4,
   "metadata": {
    "collapsed": true
   },
   "outputs": [],
   "source": [
    "def rule_30_circuit(y,t,features):\n",
    "    n_strep=y[0]\n",
    "    m_strep=y[1]\n",
    "    p_strep=y[2]\n",
    "    \n",
    "    n_kan=y[3]\n",
    "    m_kan=y[4]\n",
    "    p_kan=y[5]\n",
    "    \n",
    "    n_ara=y[6]\n",
    "    m_ara=y[7]\n",
    "    p_ara=y[8]\n",
    "    \n",
    "    n_lac=y[9]\n",
    "    m_lac=y[10]\n",
    "    p_lac=y[11]\n",
    "    p_tet=y[12]\n",
    "    \n",
    "    n_Phlf=y[13]\n",
    "    m_Phlf=y[14]\n",
    "    p_Phlf=y[15]\n",
    "    \n",
    "    n_Srpr=y[16]\n",
    "    m_Srpr=y[17]\n",
    "    p_Srpr=y[18]\n",
    "    \n",
    "    n_BetI=y[19]\n",
    "    m_BetI=y[20]\n",
    "    p_BetI=y[21]\n",
    "\n",
    "    n_HlyllR=y[22]\n",
    "    m_HlyllR=y[23]\n",
    "    p_HlyllR=y[24]\n",
    "    \n",
    "    n_AmtR=y[25]\n",
    "    m_AmtR=y[26]\n",
    "    p_AmtR=y[27]\n",
    "    \n",
    "    n_YFP=y[28]\n",
    "    m_YFP=y[29]\n",
    "    p_YFP=y[30]\n",
    "    \n",
    "    fractionActive_ara=1/(1+features[\"inducers\"][\"AraC\"]/features['iKd']['AraC']) \n",
    "    fractionActive_lac=1/(1+features[\"inducers\"][\"LacI\"]/features['iKd']['LacI'])\n",
    "    fractionActive_tet=1/(1+features[\"inducers\"][\"TetR\"]/features['iKd']['TetR'])\n",
    "    \n",
    "    #print fractionActive_lac\n",
    "    \n",
    "    alpha_strep=Partition_fxn(features['a_max']['StrepR'],features['dG_RNAP']['StrepR'],features['N_RNAP'],0,0,0, \n",
    "                  0,0,0,0,features['genome_len'],features['T'])\n",
    "    alpha_kan=Partition_fxn(features['a_max']['KanR'],features['dG_RNAP']['KanR'],features['N_RNAP'],0,0,0, \n",
    "                  0,0,0,0,features['genome_len'],features['T'])\n",
    "    alpha_con_a=Partition_fxn(features['a_max']['Con_A'],features['dG_RNAP']['Con_A'],features['N_RNAP'],0,0,0, \n",
    "                  0,0,0,0,features['genome_len'],features['T'])\n",
    "    alpha_con_L_T=Partition_fxn(features['a_max']['Con_I'],features['dG_RNAP']['Con_I'],features['N_RNAP'],0,0,0, \n",
    "                  0,0,0,0,features['genome_len'],features['T'])\n",
    "    alpha_ara=Partition_fxn(features['a_max']['AraC'],features['dG_RNAP']['AraC'],features['N_RNAP'],features['dG_TF']['offtarget'],features['dG_TF']['AraC'],features['dG_Inactive']['AraC'], \n",
    "                  features['N_ontarget']['AraC'],features['co_op']['AraC'],p_ara,fractionActive_ara,features['genome_len'],features['T'])\n",
    "    alpha_tet=Partition_fxn(features['a_max']['TetR'],features['dG_RNAP']['TetR'],features['N_RNAP'],features['dG_TF']['offtarget'],features['dG_TF']['TetR'],features['dG_Inactive']['TetR'], \n",
    "                  features['N_ontarget']['TetR'],features['co_op']['TetR'],p_tet,fractionActive_tet,features['genome_len'],features['T'])\n",
    "    alpha_lac=Partition_fxn(features['a_max']['LacI'],features['dG_RNAP']['LacI'],features['N_RNAP'],features['dG_TF']['offtarget'],features['dG_TF']['LacI'],features['dG_Inactive']['LacI'], \n",
    "                  features['N_ontarget']['LacI'],features['co_op']['LacI'],p_lac,fractionActive_lac,features['genome_len'],features['T'])\n",
    "    alpha_Phlf=Partition_fxn(features['a_max']['Phlf'],features['dG_RNAP']['Phlf'],features['N_RNAP'],features['dG_TF']['offtarget'],features['dG_TF']['Phlf'],0, \n",
    "                  features['N_ontarget']['Phlf'],features['co_op']['Phlf'],p_Phlf,1,features['genome_len'],features['T'])\n",
    "    alpha_Srpr=Partition_fxn(features['a_max']['Srpr'],features['dG_RNAP']['Srpr'],features['N_RNAP'],features['dG_TF']['offtarget'],features['dG_TF']['Srpr'],0, \n",
    "                  features['N_ontarget']['Srpr'],features['co_op']['Srpr'],p_Srpr,1,features['genome_len'],features['T'])\n",
    "    alpha_BetI=Partition_fxn(features['a_max']['BetI'],features['dG_RNAP']['BetI'],features['N_RNAP'],features['dG_TF']['offtarget'],features['dG_TF']['BetI'],0, \n",
    "                  features['N_ontarget']['BetI'],features['co_op']['BetI'],p_BetI,1,features['genome_len'],features['T'])\n",
    "    alpha_AmtR=Partition_fxn(features['a_max']['AmtR'],features['dG_RNAP']['AmtR'],features['N_RNAP'],features['dG_TF']['offtarget'],features['dG_TF']['AmtR'],0, \n",
    "                  features['N_ontarget']['AmtR'],features['co_op']['AmtR'],p_AmtR,1,features['genome_len'],features['T'])\n",
    "    alpha_HlyllR=Partition_fxn(features['a_max']['HlyllR'],features['dG_RNAP']['HlyllR'],features['N_RNAP'],features['dG_TF']['offtarget'],features['dG_TF']['HlyllR'],0, \n",
    "                  features['N_ontarget']['HlyllR'],features['co_op']['HlyllR'],p_HlyllR,1,features['genome_len'],features['T'])\n",
    "    \n",
    "    #print alpha_HlyllR\n",
    "    \n",
    "    dy=np.zeros(len(y))\n",
    "    \n",
    "    dy[0]=0\n",
    "    dy[1]=alpha_strep*n_strep-features['d_mRNA']['StrepR']*m_strep-features['mu']*m_strep\n",
    "    dy[2]=features['beta']['StrepR']*m_strep-features['d_Protein']['StrepR']*p_strep-features['mu']*p_strep\n",
    "\n",
    "    dy[3]=0\n",
    "    dy[4]=alpha_kan*n_kan-features['d_mRNA']['KanR']*m_kan-features['mu']*m_kan\n",
    "    dy[5]=features['beta']['KanR']*m_kan-features['d_Protein']['KanR']*p_kan-features['mu']*p_kan\n",
    "                                                                                    \n",
    "    dy[6]=0\n",
    "    dy[7]=alpha_con_a*n_ara-features['d_mRNA']['AraC']*m_ara-features['mu']*m_ara\n",
    "    dy[8]=features['beta']['AraC']*m_ara-features['d_Protein']['AraC']*p_ara-features['mu']*p_ara\n",
    "    \n",
    "    dy[9]=0\n",
    "    dy[10]=alpha_con_L_T*n_lac-features['d_mRNA']['LacI_TetR']*m_lac-features['mu']*m_lac\n",
    "    dy[11]=features['beta']['LacI']*m_lac-features['d_Protein']['LacI']*p_lac-features['mu']*p_lac\n",
    "\n",
    "    dy[12]=features['beta']['TetR']*m_lac-features['d_Protein']['TetR']*p_tet-features['mu']*p_tet\n",
    "                                                                                    \n",
    "    dy[13]=0\n",
    "    dy[14]=(alpha_Srpr+alpha_BetI)*n_Phlf-features['d_mRNA']['Phlf']*m_Phlf-features['mu']*m_Phlf\n",
    "    dy[15]=features['beta']['Phlf']*m_Phlf-features['d_Protein']['Phlf']*p_Phlf-features['mu']*p_Phlf\n",
    "    \n",
    "    dy[16]=0\n",
    "    dy[17]=alpha_ara*n_Srpr-features['d_mRNA']['Srpr']*m_Srpr-features['mu']*m_Srpr\n",
    "    dy[18]=features['beta']['Srpr']*m_Srpr-features['d_Protein']['Srpr']*p_Srpr-features['mu']*p_Srpr\n",
    "\n",
    "    dy[19]=0\n",
    "    dy[20]=alpha_HlyllR*n_BetI-features['d_mRNA']['BetI']*m_BetI-features['mu']*m_BetI\n",
    "    dy[21]=features['beta']['BetI']*m_BetI-features['d_Protein']['BetI']*p_BetI-features['mu']*p_BetI\n",
    "                                                                        \n",
    "    dy[22]=0\n",
    "    dy[23]=(alpha_tet+alpha_lac)*n_HlyllR-features['d_mRNA']['HlyllR']*m_HlyllR-features['mu']*m_HlyllR\n",
    "    dy[24]=features['beta']['HlyllR']*m_HlyllR-features['d_Protein']['HlyllR']*p_HlyllR-features['mu']*p_HlyllR\n",
    "\n",
    "    dy[25]=0\n",
    "    dy[26]=(alpha_ara+alpha_HlyllR)*n_AmtR-features['d_mRNA']['AmtR']*m_AmtR-features['mu']*m_AmtR\n",
    "    dy[27]=features['beta']['AmtR']*m_AmtR-features['d_Protein']['AmtR']*p_AmtR-features['mu']*p_AmtR\n",
    "    \n",
    "    dy[28]=0\n",
    "    dy[29]=(alpha_Phlf+alpha_AmtR)*n_YFP-features['d_mRNA']['YFP']*m_YFP-features['mu']*m_YFP\n",
    "    dy[30]=features['beta']['YFP']*m_YFP-features['d_Protein']['YFP']*p_YFP-features['mu']*p_YFP\n",
    "    \n",
    "    return dy"
   ]
  },
  {
   "cell_type": "code",
   "execution_count": 5,
   "metadata": {
    "collapsed": true
   },
   "outputs": [],
   "source": [
    "# Plots the solution to circuit model\n",
    "def circuit_char(time_points, solution):\n",
    "    \n",
    "    fig, (ax1, ax2, ax3, ax4) = plt.subplots(4, 1, figsize=(24, 24))\n",
    "    \n",
    "    ax1.set_ylim((0, 200))\n",
    "    ax2.set_ylim((0, 2000))\n",
    "    ax3.set_ylim((0, 500))\n",
    "    ax4.set_ylim((0, 10000))\n",
    "\n",
    "    \n",
    "    ax1.set_title('YFP mRNA levels')\n",
    "    ax1.plot(time_points, solution[:, 29], 'orange')\n",
    "    ax1.set_xlabel('Time (minutes)')\n",
    "    ax1.set_ylabel('mRNAs')\n",
    "\n",
    "    ax2.set_title('YFP protein levels')\n",
    "    ax2.plot(time_points, solution[:, 30], 'orange')\n",
    "    ax2.set_xlabel('Time (minutes)')\n",
    "    ax2.set_ylabel('Proteins')\n",
    "    \n",
    "    ax3.set_title('TF mRNA levels')\n",
    "    ax3.plot(time_points, solution[:, 14], 'r')\n",
    "    ax3.plot(time_points, solution[:, 17], 'y')\n",
    "    ax3.plot(time_points, solution[:, 20], 'g')\n",
    "    ax3.plot(time_points, solution[:, 23], 'b')\n",
    "    ax3.plot(time_points, solution[:, 26], 'm')\n",
    "    ax3.legend(['Phlf', 'Srpr', 'BetI','HlyllR', 'AmtR'])\n",
    "    ax3.set_xlabel('Time (minutes)')\n",
    "    ax3.set_ylabel('mRNAs')\n",
    "\n",
    "    ax4.set_title('TF protein levels')\n",
    "    ax4.plot(time_points, solution[:, 15], 'r')\n",
    "    ax4.plot(time_points, solution[:, 16], 'y')\n",
    "    ax4.plot(time_points, solution[:, 21], 'g')\n",
    "    ax4.plot(time_points, solution[:, 24], 'b')\n",
    "    ax4.plot(time_points, solution[:, 27], 'm')\n",
    "    ax4.legend(['Phlf', 'Srpr', 'BetI','HlyllR', 'AmtR'])\n",
    "    ax4.set_xlabel('Time (minutes)')\n",
    "    ax4.set_ylabel('Proteins')\n",
    "\n",
    "    fig.subplots_adjust(hspace=0.5)\n",
    "\n",
    "    plt.show()"
   ]
  },
  {
   "cell_type": "code",
   "execution_count": 6,
   "metadata": {
    "collapsed": true
   },
   "outputs": [],
   "source": [
    "# Solves circuit model function\n",
    "def solve_circuit(induction_conditions,features, verbose=True):\n",
    "    \n",
    "    t = np.linspace(0, 300, 1000)\n",
    "\n",
    "    h0 = np.zeros(31)\n",
    "    h0[0]=features['copy_number']['StrepR']\n",
    "    h0[3]=features['copy_number']['KanR']\n",
    "    h0[6]=features['copy_number']['AraC']\n",
    "    h0[9]=features['copy_number']['LacI_TetR']\n",
    "    h0[13]=features['copy_number']['Phlf']\n",
    "    h0[16]=features['copy_number']['Srpr']\n",
    "    h0[19]=features['copy_number']['BetI']\n",
    "    h0[22]=features['copy_number']['HlyllR']\n",
    "    h0[25]=features['copy_number']['AmtR']\n",
    "    h0[28]=features['copy_number']['YFP']\n",
    "    \n",
    "    features['inducers']['LacI']=0\n",
    "    features['inducers']['TetR']=0\n",
    "    features['inducers']['AraC']=0\n",
    "    \n",
    "    y = odeint(rule_30_circuit, h0, t, (features,))\n",
    "\n",
    "    # circuit_char(t, y)\n",
    "\n",
    "    h0=y[-1,:]\n",
    "\n",
    "    # induction\n",
    "    \n",
    "    features['inducers']['LacI']=induction_conditions[0]\n",
    "    features['inducers']['TetR']=induction_conditions[1]\n",
    "    features['inducers']['AraC']=induction_conditions[2]\n",
    "    \n",
    "    y = odeint(rule_30_circuit, h0, t, (features,))\n",
    "\n",
    "    if verbose:\n",
    "        circuit_char(t, y)\n",
    "        \n",
    "    return y\n",
    "                                                  \n",
    "#solve_circuit([0,0,0],features)\n",
    "#print \"done!\""
   ]
  },
  {
   "cell_type": "code",
   "execution_count": 7,
   "metadata": {
    "collapsed": false
   },
   "outputs": [
    {
     "data": {
      "image/png": "[encoded data removed]",
      "text/plain": [
       "<matplotlib.figure.Figure at 0x89eea20>"
      ]
     },
     "metadata": {},
     "output_type": "display_data"
    },
    {
     "name": "stdout",
     "output_type": "stream",
     "text": [
      "done!\n"
     ]
    }
   ],
   "source": [
    "%matplotlib inline\n",
    "matplotlib.rcParams.update({'font.size': 25})\n",
    "y = solve_circuit([1,1,0],features, verbose=True)\n",
    "print \"done!\""
   ]
  },
  {
   "cell_type": "markdown",
   "metadata": {},
   "source": [
    "## Ptashne Steady State"
   ]
  },
  {
   "cell_type": "code",
   "execution_count": 8,
   "metadata": {
    "collapsed": true
   },
   "outputs": [],
   "source": [
    "def calc_Pt_number_serial(features, this_element, ups_element, trans_coupling):\n",
    "    N=features['copy_number'][trans_coupling]\n",
    "    a=features['a_max'][ups_element]    \n",
    "    # print a\n",
    "    D=features['N_ontarget'][this_element]\n",
    "    dGR=float(features['dG_TF'][this_element])\n",
    "    # print dGR\n",
    "    B=features['beta'][this_element]\n",
    "    d_m=features['d_mRNA'][trans_coupling]\n",
    "    d_p=features['d_Protein'][this_element]\n",
    "    # print 1/(d_m*d_p)\n",
    "    u=features['mu']\n",
    "    LG=features['genome_len']\n",
    "    T=310\n",
    "    RT=T*1.987/1000 #temperature(kelvin)*R(kcal/K/mol)\n",
    "    # print RT\n",
    "    R=a*B*N/((d_m+u)*(d_p+u))\n",
    "    # print R\n",
    "    # print math.exp(-dGR/RT)\n",
    "    Pt=N*(math.exp(-dGR/RT)/LG)*R/(1+D*(math.exp(-dGR/RT)/LG))\n",
    "    return Pt"
   ]
  },
  {
   "cell_type": "code",
   "execution_count": 9,
   "metadata": {
    "collapsed": true
   },
   "outputs": [],
   "source": [
    "dependency_graph = {\n",
    "    \"Phlf\"  : ([\"BetI\", \"Srpr\"], \"Phlf\"),\n",
    "    \"Srpr\"  : ([\"AraC\"], \"Srpr\"),\n",
    "    \"BetI\"  : ([\"HlyllR\"], \"BetI\"),\n",
    "    \"HlyllR\": ([\"LacI\", \"TetR\"], \"HlyllR\"),\n",
    "    \"AmtR\"  : ([\"AraC\", \"HlyllR\"], \"AmtR\")\n",
    "}"
   ]
  },
  {
   "cell_type": "code",
   "execution_count": 10,
   "metadata": {
    "collapsed": true
   },
   "outputs": [],
   "source": [
    "from collections import defaultdict"
   ]
  },
  {
   "cell_type": "code",
   "execution_count": 11,
   "metadata": {
    "collapsed": true
   },
   "outputs": [],
   "source": [
    "ptashne_graph = defaultdict(lambda : defaultdict(float))\n",
    "\n",
    "for this_element in dependency_graph:\n",
    "    trans_coupling = dependency_graph[this_element][1]\n",
    "    for ups_element in dependency_graph[this_element][0]:\n",
    "        ptashne_graph[this_element][ups_element] = calc_Pt_number_serial(features, this_element, ups_element, trans_coupling)        "
   ]
  },
  {
   "cell_type": "code",
   "execution_count": 12,
   "metadata": {
    "collapsed": false
   },
   "outputs": [
    {
     "data": {
      "text/plain": [
       "defaultdict(<function __main__.<lambda>>,\n",
       "            {'AmtR': defaultdict(float,\n",
       "                         {'AraC': 22163.32501070485,\n",
       "                          'HlyllR': 27704.156263381064}),\n",
       "             'BetI': defaultdict(float, {'HlyllR': 9550.257223523393}),\n",
       "             'HlyllR': defaultdict(float,\n",
       "                         {'LacI': 1118.6572185100572,\n",
       "                          'TetR': 1677.985827765086}),\n",
       "             'Phlf': defaultdict(float,\n",
       "                         {'BetI': 18838.82625909912,\n",
       "                          'Srpr': 33244.98751605728}),\n",
       "             'Srpr': defaultdict(float, {'AraC': 4653.101640864158})})"
      ]
     },
     "execution_count": 12,
     "metadata": {},
     "output_type": "execute_result"
    }
   ],
   "source": [
    "ptashne_graph"
   ]
  },
  {
   "cell_type": "markdown",
   "metadata": {},
   "source": [
    "## Context dependent Ptashne"
   ]
  },
  {
   "cell_type": "code",
   "execution_count": 13,
   "metadata": {
    "collapsed": true
   },
   "outputs": [],
   "source": [
    "def calc_Pt_number_context(features, this_element, trans_coupling, R):\n",
    "    N=features['copy_number'][trans_coupling]\n",
    "    D=features['N_ontarget'][this_element]\n",
    "    dGR=float(features['dG_TF'][this_element])\n",
    "    LG=features['genome_len']\n",
    "    T=310\n",
    "    RT=T*1.987/1000 #temperature(kelvin)*R(kcal/K/mol)\n",
    "    Pt=N*(math.exp(-dGR/RT)/LG)*R/(1+D*(math.exp(-dGR/RT)/LG))\n",
    "    return Pt"
   ]
  },
  {
   "cell_type": "code",
   "execution_count": 14,
   "metadata": {
    "collapsed": true
   },
   "outputs": [],
   "source": [
    "index_dict={\"mRNA\":{\"Phlf\":14,#\n",
    "                  \"Srpr\":17,#\n",
    "                  \"BetI\":20,#\n",
    "                  \"HlyllR\":23,#\n",
    "                  \"AmtR\":26,#\n",
    "                  \"YFP\":29,#\n",
    "                  \"LacI\":10,#\n",
    "                  \"AraC\":7,#\n",
    "                  \"TetR\":10#\n",
    "                    },\n",
    "             \"protein\":{\"Phlf\":15,#\n",
    "                  \"Srpr\":18,#\n",
    "                  \"BetI\":21,#\n",
    "                  \"HlyllR\":24,#\n",
    "                  \"AmtR\":27,#\n",
    "                  \"YFP\":30,#\n",
    "                  \"LacI\":11,#\n",
    "                  \"AraC\":8,#\n",
    "                  \"TetR\":12#\n",
    "                     }\n",
    "           }"
   ]
  },
  {
   "cell_type": "code",
   "execution_count": 15,
   "metadata": {
    "collapsed": true
   },
   "outputs": [],
   "source": [
    "prot_ptash_stash = {}"
   ]
  },
  {
   "cell_type": "code",
   "execution_count": 16,
   "metadata": {
    "collapsed": true
   },
   "outputs": [],
   "source": [
    "from itertools import product"
   ]
  },
  {
   "cell_type": "code",
   "execution_count": 17,
   "metadata": {
    "collapsed": false
   },
   "outputs": [],
   "source": [
    "for i, j, k in product([0, 1], repeat=3):\n",
    "    y = solve_circuit([i, j, k], features, verbose=False)\n",
    "    prot_ptash = defaultdict(lambda : defaultdict(float))\n",
    "    for this_element in dependency_graph:\n",
    "        trans_coupling = dependency_graph[this_element][1]\n",
    "        prot_ptash[this_element] = calc_Pt_number_context(features, this_element, trans_coupling, y[-1][index_dict['protein'][this_element]])\n",
    "    prot_ptash_stash[tuple([i, j, k])] = prot_ptash"
   ]
  },
  {
   "cell_type": "code",
   "execution_count": 18,
   "metadata": {
    "collapsed": false
   },
   "outputs": [
    {
     "data": {
      "text/plain": [
       "{(0, 0, 0): defaultdict(<function __main__.<lambda>>,\n",
       "             {'AmtR': 1520.516607829464,\n",
       "              'BetI': 524.14513716875308,\n",
       "              'HlyllR': 44.886365511107925,\n",
       "              'Phlf': 5725.2034916067714,\n",
       "              'Srpr': 0.0071650685735814533}),\n",
       " (0, 0, 1): defaultdict(<function __main__.<lambda>>,\n",
       "             {'AmtR': 3390.377849713238,\n",
       "              'BetI': 524.14513648709715,\n",
       "              'HlyllR': 44.886365525234424,\n",
       "              'Phlf': 221.23054049812825,\n",
       "              'Srpr': 392.57707133472888}),\n",
       " (0, 1, 0): defaultdict(<function __main__.<lambda>>,\n",
       "             {'AmtR': 8.7772442409048228,\n",
       "              'BetI': 3.0139523729854574,\n",
       "              'HlyllR': 415.38384422186692,\n",
       "              'Phlf': 9807.4949877177351,\n",
       "              'Srpr': 0.0071650709160937416}),\n",
       " (0, 1, 1): defaultdict(<function __main__.<lambda>>,\n",
       "             {'AmtR': 1878.638487336962,\n",
       "              'BetI': 3.0139524003210321,\n",
       "              'HlyllR': 415.38384420981038,\n",
       "              'Phlf': 4303.5220446272706,\n",
       "              'Srpr': 392.5770711597894}),\n",
       " (1, 0, 0): defaultdict(<function __main__.<lambda>>,\n",
       "             {'AmtR': 17.792302079614849,\n",
       "              'BetI': 6.1216493008144477,\n",
       "              'HlyllR': 217.70265275849286,\n",
       "              'Phlf': 9593.8852055809948,\n",
       "              'Srpr': 0.007165069527144379}),\n",
       " (1, 0, 1): defaultdict(<function __main__.<lambda>>,\n",
       "             {'AmtR': 1887.6535475840549,\n",
       "              'BetI': 6.1216496104879328,\n",
       "              'HlyllR': 217.70265263550118,\n",
       "              'Phlf': 4089.912242857436,\n",
       "              'Srpr': 392.57707149207891}),\n",
       " (1, 1, 0): defaultdict(<function __main__.<lambda>>,\n",
       "             {'AmtR': 8.2388034543895401,\n",
       "              'BetI': 2.828339501334129,\n",
       "              'HlyllR': 588.20013132769282,\n",
       "              'Phlf': 9834.0996027533838,\n",
       "              'Srpr': 0.0071650706933190532}),\n",
       " (1, 1, 1): defaultdict(<function __main__.<lambda>>,\n",
       "             {'AmtR': 1878.1000469701264,\n",
       "              'BetI': 2.8283395556469082,\n",
       "              'HlyllR': 588.20013127353263,\n",
       "              'Phlf': 4330.1266617037672,\n",
       "              'Srpr': 392.57707123124652})}"
      ]
     },
     "execution_count": 18,
     "metadata": {},
     "output_type": "execute_result"
    }
   ],
   "source": [
    "prot_ptash_stash"
   ]
  },
  {
   "cell_type": "markdown",
   "metadata": {
    "collapsed": true
   },
   "source": [
    "## Monte Carlo -- Wowza!"
   ]
  },
  {
   "cell_type": "code",
   "execution_count": 19,
   "metadata": {
    "collapsed": true
   },
   "outputs": [],
   "source": [
    "import random\n",
    "random.seed(1000)"
   ]
  },
  {
   "cell_type": "markdown",
   "metadata": {
    "collapsed": true
   },
   "source": [
    "### For data analysis comparison"
   ]
  },
  {
   "cell_type": "code",
   "execution_count": 60,
   "metadata": {
    "collapsed": true
   },
   "outputs": [],
   "source": [
    "# generate feature dictionary\n",
    "def gen_feature_dict():\n",
    "    p1=random.randint(7, 13)\n",
    "    p2=random.randint(3, 7)\n",
    "    features={\n",
    "        #RNAP binding free energy, kcal/mol\n",
    "        'dG_RNAP':{\"offtarget\":-4*R,\n",
    "                     \"Phlf\":-4.7*R,\n",
    "                     \"Srpr\":-4.4*R,\n",
    "                     \"BetI\":-4.7*R,#\n",
    "                     \"HlyllR\":-4.7*R,\n",
    "                     \"AmtR\":-4.8*R,\n",
    "                     \"LacI\":-4.5*R,#\n",
    "                     \"TetR\":-4.7*R,#\n",
    "                     \"AraC\":-4.5*R,#\n",
    "                     \"Con_A\":-4*R,#\n",
    "                     \"Con_I\":-4*R,#\n",
    "                     \"KanR\":-4*R,#\n",
    "                     \"StrepR\":-4*R#\n",
    "                    },\n",
    "        #TF binding free energy, kcal/mol\n",
    "        'dG_TF':{\"offtarget\":-4*T,\n",
    "                     \"Phlf\":-9*T,\n",
    "                     \"Srpr\":-7.5*T,\n",
    "                     \"BetI\":-8*T,#\n",
    "                     \"HlyllR\":-6.5*T,\n",
    "                     \"AmtR\":-9*T,\n",
    "                     \"TetR\":-7.5*T,#\n",
    "                     \"AraC\":-8*T,#\n",
    "                     \"LacI\":-8*T#\n",
    "                    },\n",
    "        #inactive binding free energy\n",
    "        'dG_Inactive':{'TetR':-2.0,#\n",
    "                      'LacI':-2.0,#\n",
    "                      'AraC':-2.0},#\n",
    "        #mRNA deg rate, 1/min\n",
    "        'd_mRNA':{\"Phlf\":d_m*random.uniform(0.7, 1.3),#\n",
    "                      \"Srpr\":d_m*random.uniform(0.7, 1.3),#\n",
    "                      \"BetI\":d_m*random.uniform(0.7, 1.3),#\n",
    "                      \"HlyllR\":d_m*random.uniform(0.7, 1.3),#\n",
    "                      \"AmtR\":d_m*random.uniform(0.7, 1.3),#\n",
    "                      \"YFP\":d_m*random.uniform(0.7, 1.3),#\n",
    "                      \"LacI_TetR\":d_m*random.uniform(0.7, 1.3),#\n",
    "                      \"AraC\":d_m*random.uniform(0.7, 1.3),#\n",
    "                      \"KanR\":d_m*random.uniform(0.7, 1.3),#\n",
    "                      \"StrepR\":d_m*random.uniform(0.7, 1.3) #\n",
    "                    },\n",
    "        #Translation rate, protein/mRNA/min\n",
    "        'beta':{\"Phlf\":random.uniform(0.7, 1.3),#\n",
    "                      \"Srpr\":random.uniform(0.7, 1.3),#\n",
    "                      \"BetI\":random.uniform(0.7, 1.3),#\n",
    "                      \"HlyllR\":random.uniform(0.7, 1.3),#\n",
    "                      \"AmtR\":random.uniform(0.7, 1.3),#\n",
    "                      \"YFP\":random.uniform(0.7, 1.3),#\n",
    "                      \"LacI\":random.uniform(0.7, 1.3),#\n",
    "                      \"AraC\":random.uniform(0.7, 1.3),#\n",
    "                      \"TetR\":random.uniform(0.7, 1.3),#\n",
    "                      \"KanR\":random.uniform(0.7, 1.3),#\n",
    "                      \"StrepR\":random.uniform(0.7, 1.3)#\n",
    "                    },\n",
    "        #number of TF binding sites in promoter\n",
    "        'N_ontarget':{\"Phlf\":p2,#\n",
    "                      \"Srpr\":p1,#\n",
    "                      \"BetI\":p1,#\n",
    "                      \"HlyllR\":2*p1,#\n",
    "                      \"AmtR\":p2,#\n",
    "                      \"LacI\":p1,#\n",
    "                      \"TetR\":p1,#\n",
    "                      \"AraC\":2*p1,#\n",
    "                    }, #tbd\n",
    "        # number of free RNAP\n",
    "        'N_RNAP':750,#\n",
    "        # number of free Ribosomes\n",
    "        'N_RIBO':1000, #\n",
    "        #protein deg rates, 1/min\n",
    "        'd_Protein':{\"Phlf\":d_p*random.uniform(0.7, 1.3),#\n",
    "                      \"Srpr\":d_p*random.uniform(0.7, 1.3),#\n",
    "                      \"BetI\":d_p*random.uniform(0.7, 1.3),#\n",
    "                      \"HlyllR\":d_p*random.uniform(0.7, 1.3),#\n",
    "                      \"AmtR\":d_p*random.uniform(0.7, 1.3),#\n",
    "                      \"YFP\":d_p*random.uniform(0.7, 1.3),#\n",
    "                      \"LacI\":d_p*random.uniform(0.7, 1.3),#\n",
    "                      \"AraC\":d_p*random.uniform(0.7, 1.3),#\n",
    "                      \"TetR\":d_p*random.uniform(0.7, 1.3),#\n",
    "                      \"KanR\":d_p*random.uniform(0.7, 1.3),#\n",
    "                      \"StrepR\":d_p*random.uniform(0.7, 1.3)#\n",
    "                    }, #tbd\n",
    "        #growth rate, 1/min\n",
    "        'mu': math.log(2)/45 * random.uniform(0.7, 1.3), #tbd\n",
    "        #max promoter transcription rate mRNA/promoter/min\n",
    "        'a_max':{\"Phlf\":random.randint(2, 4)*factor,\n",
    "                      \"Srpr\":random.randint(2, 4)*factor,\n",
    "                      \"BetI\":random.uniform(1.5, 1.9)*factor,#\n",
    "                      \"HlyllR\":random.uniform(2.0, 3.0)*factor,\n",
    "                      \"AmtR\":random.uniform(1, 2)*factor,\n",
    "                      \"LacI\":random.uniform(1., 3.)*factor,#\n",
    "                      \"TetR\":random.randint(2, 4)*factor,#\n",
    "                      \"AraC\":random.randint(1, 3)*factor,#\n",
    "                      \"Con_A\":random.uniform(0.5, 1.5)*factor,\n",
    "                      \"Con_I\":random.uniform(0.5, 1.5)*factor,\n",
    "                      \"KanR\":random.uniform(1., 3.)*factor,\n",
    "                      \"StrepR\":random.uniform(1., 3.)*factor\n",
    "                    },\n",
    "        #genome length\n",
    "        'genome_len':4600000,\n",
    "        #copy number of circuit    \n",
    "        \"copy_number\":{\"Phlf\":p1,\n",
    "                      \"Srpr\":p1,\n",
    "                      \"BetI\":p1,\n",
    "                      \"HlyllR\":p1,\n",
    "                      \"AmtR\":p1,\n",
    "                      \"YFP\":p2,\n",
    "                      \"LacI_TetR\":p1,\n",
    "                      \"AraC\":p1,\n",
    "                      \"KanR\":p1,\n",
    "                      \"StrepR\":p2},\n",
    "\n",
    "        #inducer concentrations used mM\n",
    "        'inducers':{'AraC':0,\n",
    "                    'TetR':0,\n",
    "                    'LacI':0\n",
    "                    },\n",
    "        #kd of inducers\n",
    "        'iKd':{'AraC': 0.05,#\n",
    "               'LacI': 0.05,#\n",
    "               'TetR':0.005 #\n",
    "                    },\n",
    "        # temperature\n",
    "        'T':310,\n",
    "\n",
    "        'co_op':{\"Phlf\":1,#\n",
    "                      \"Srpr\":1,#\n",
    "                      \"BetI\":1,#\n",
    "                      \"HlyllR\":1,#\n",
    "                      \"AmtR\":1,#\n",
    "                      \"LacI\":1,#\n",
    "                      \"TetR\":1,#\n",
    "                      \"AraC\":2,}\n",
    "    }\n",
    "    return features"
   ]
  },
  {
   "cell_type": "code",
   "execution_count": 61,
   "metadata": {
    "collapsed": true
   },
   "outputs": [],
   "source": [
    "runs = 5000"
   ]
  },
  {
   "cell_type": "code",
   "execution_count": 62,
   "metadata": {
    "collapsed": false
   },
   "outputs": [],
   "source": [
    "def monte_carlo(feature_fn=gen_feature_dict):\n",
    "    random.seed(5000)\n",
    "    mRNA_mc_analysis = defaultdict(list)\n",
    "    prot_mc_analysis = defaultdict(list)\n",
    "    for run in xrange(runs):\n",
    "        if run % 10 == 0:\n",
    "            print run,\n",
    "        fd = feature_fn()\n",
    "        for i, j, k in product([0, 1], repeat=3):\n",
    "            y = solve_circuit([i, j, k], fd, verbose=False)\n",
    "            mRNA_mc_analysis[tuple([i, j, k])].append(y[-1][29])\n",
    "            prot_mc_analysis[tuple([i, j, k])].append(y[-1][30])\n",
    "    return mRNA_mc_analysis, prot_mc_analysis"
   ]
  },
  {
   "cell_type": "code",
   "execution_count": 23,
   "metadata": {
    "collapsed": false
   },
   "outputs": [
    {
     "name": "stdout",
     "output_type": "stream",
     "text": [
      "0 10 20 30 40 50 60 70 80 90 100 110 120 130 140 150 160 170 180 190 200 210 220 230 240 250 260 270 280 290 300 310 320 330 340 350 360 370 380 390 400 410 420 430 440 450 460 470 480 490 500 510 520 530 540 550 560 570 580 590 600 610 620 630 640 650 660 670 680 690 700 710 720 730 740 750 760 770 780 790 800 810 820 830 840 850 860 870 880 890 900 910 920 930 940 950 960 970 980 990 1000 1010 1020 1030 1040 1050 1060 1070 1080 1090 1100 1110 1120 1130 1140 1150 1160 1170 1180 1190 1200 1210 1220 1230 1240 1250 1260 1270 1280 1290 1300 1310 1320 1330 1340 1350 1360 1370 1380 1390 1400 1410 1420 1430 1440 1450 1460 1470 1480 1490 1500 1510 1520 1530 1540 1550 1560 1570 1580 1590 1600 1610 1620 1630 1640 1650 1660 1670 1680 1690 1700 1710 1720 1730 1740 1750 1760 1770 1780 1790 1800 1810 1820 1830 1840 1850 1860 1870 1880 1890 1900 1910 1920 1930 1940 1950 1960 1970 1980 1990 2000 2010 2020 2030 2040 2050 2060 2070 2080 2090 2100 2110 2120 2130 2140 2150 2160 2170 2180 2190 2200 2210 2220 2230 2240 2250 2260 2270 2280 2290 2300 2310 2320 2330 2340 2350 2360 2370 2380 2390 2400 2410 2420 2430 2440 2450 2460 2470 2480 2490 2500 2510 2520 2530 2540 2550 2560 2570 2580 2590 2600 2610 2620 2630 2640 2650 2660 2670 2680 2690 2700 2710 2720 2730 2740 2750 2760 2770 2780 2790 2800 2810 2820 2830 2840 2850 2860 2870 2880 2890 2900 2910 2920 2930 2940 2950 2960 2970 2980 2990 3000 3010 3020 3030 3040 3050 3060 3070 3080 3090 3100 3110 3120 3130 3140 3150 3160 3170 3180 3190 3200 3210 3220 3230 3240 3250 3260 3270 3280 3290 3300 3310 3320 3330 3340 3350 3360 3370 3380 3390 3400 3410 3420 3430 3440 3450 3460 3470 3480 3490 3500 3510 3520 3530 3540 3550 3560 3570 3580 3590 3600 3610 3620 3630 3640 3650 3660 3670 3680 3690 3700 3710 3720 3730 3740 3750 3760 3770 3780 3790 3800 3810 3820 3830 3840 3850 3860 3870 3880 3890 3900 3910 3920 3930 3940 3950 3960 3970 3980 3990 4000 4010 4020 4030 4040 4050 4060 4070 4080 4090 4100 4110 4120 4130 4140 4150 4160 4170 4180 4190 4200 4210 4220 4230 4240 4250 4260 4270 4280 4290 4300 4310 4320 4330 4340 4350 4360 4370 4380 4390 4400 4410 4420 4430 4440 4450 4460 4470 4480 4490 4500 4510 4520 4530 4540 4550 4560 4570 4580 4590 4600 4610 4620 4630 4640 4650 4660 4670 4680 4690 4700 4710 4720 4730 4740 4750 4760 4770 4780 4790 4800 4810 4820 4830 4840 4850 4860 4870 4880 4890 4900 4910 4920 4930 4940 4950 4960 4970 4980 4990\n"
     ]
    }
   ],
   "source": [
    "mRNA_mc_analysis, prot_mc_analysis = monte_carlo()"
   ]
  },
  {
   "cell_type": "code",
   "execution_count": 27,
   "metadata": {
    "collapsed": false
   },
   "outputs": [
    {
     "data": {
      "image/png": "[encoded data removed]",
      "text/plain": [
       "<matplotlib.figure.Figure at 0xa282470>"
      ]
     },
     "metadata": {},
     "output_type": "display_data"
    }
   ],
   "source": [
    "plt.hist(prot_mc_analysis[(0, 0, 1)],bins=np.logspace(1.1,6.9,59))\n",
    "plt.gca().set_xscale('log')"
   ]
  },
  {
   "cell_type": "code",
   "execution_count": 128,
   "metadata": {
    "collapsed": false
   },
   "outputs": [
    {
     "data": {
      "image/png": "[encoded data removed]",
      "text/plain": [
       "<matplotlib.figure.Figure at 0x267d6eda0>"
      ]
     },
     "metadata": {},
     "output_type": "display_data"
    }
   ],
   "source": [
    "### Histogram for MC\n",
    "\n",
    "fig, axes = plt.subplots(2, 4, figsize=(24, 12), sharey=True, sharex=True)\n",
    "\n",
    "axes[0, 0].set_title('No induction (000)', fontdict={'fontsize':22})\n",
    "axes[0, 0].hist(prot_mc_analysis[(0, 0, 0)],bins=np.logspace(1.1,6.9,59))\n",
    "axes[0, 1].set_title('IPTG (100)', fontdict={'fontsize':22})\n",
    "axes[0, 1].hist(prot_mc_analysis[(1, 0, 0)],bins=np.logspace(1.1,6.9,59))\n",
    "axes[0, 2].set_title('aTc (010)', fontdict={'fontsize':22})\n",
    "axes[0, 2].hist(prot_mc_analysis[(0, 1, 0)],bins=np.logspace(1.1,6.9,59))\n",
    "axes[0, 3].set_title('Ara (001)', fontdict={'fontsize':22})\n",
    "axes[0, 3].hist(prot_mc_analysis[(0, 0, 1)],bins=np.logspace(1.1,6.9,59))\n",
    "\n",
    "axes[1, 0].set_title('IPTG + aTc (110)', fontdict={'fontsize':22})\n",
    "axes[1, 0].hist(prot_mc_analysis[(1, 1, 0)],bins=np.logspace(1.1,6.9,59))\n",
    "axes[1, 1].set_title('IPTG + Ara (101)', fontdict={'fontsize':22})\n",
    "axes[1, 1].hist(prot_mc_analysis[(1, 0, 1)],bins=np.logspace(1.1,6.9,59))\n",
    "axes[1, 2].set_title('aTc + Ara (011)', fontdict={'fontsize':22})\n",
    "axes[1, 2].hist(prot_mc_analysis[(0, 1, 1)],bins=np.logspace(1.1,6.9,59))\n",
    "axes[1, 3].set_title('IPTG + aTc + Ara (111)', fontdict={'fontsize':22})\n",
    "axes[1, 3].hist(prot_mc_analysis[(1, 1, 1)],bins=np.logspace(1.1,6.9,59))\n",
    "\n",
    "axes[0, 0].set_ylabel('Count')\n",
    "axes[1, 0].set_ylabel('Count')\n",
    "axes[1, 0].set_xlabel('YFP Count')\n",
    "axes[1, 1].set_xlabel('YFP Count')\n",
    "axes[1, 2].set_xlabel('YFP Count')\n",
    "axes[1, 3].set_xlabel('YFP Count')\n",
    "\n",
    "plt.gca().set_xscale('log')\n",
    "plt.savefig('Fig1.png', bbox_inches='tight', dpi=600)\n",
    "plt.show()"
   ]
  },
  {
   "cell_type": "code",
   "execution_count": 90,
   "metadata": {
    "collapsed": false
   },
   "outputs": [],
   "source": [
    "# # write out unbinned csv\n",
    "# with open('bree_mRNA_unbinned.csv', 'w') as out_file:\n",
    "#     out_file.write(','.join([''.join(map(str, digit)) for digit in product([0, 1], repeat=3)])+'\\n')\n",
    "#     for run in xrange(runs):\n",
    "#         out_file.write(','.join(str(mRNA_mc_analysis[tup][run]) for tup in product([0, 1], repeat=3))+'\\n')\n",
    "\n",
    "# with open('bree_prot_unbinned.csv', 'w') as out_file:\n",
    "#     out_file.write(','.join([''.join(map(str, digit)) for digit in product([0, 1], repeat=3)])+'\\n')\n",
    "#     for run in xrange(runs):\n",
    "#         out_file.write(','.join(str(prot_mc_analysis[tup][run]) for tup in product([0, 1], repeat=3))+'\\n')"
   ]
  },
  {
   "cell_type": "code",
   "execution_count": 33,
   "metadata": {
    "collapsed": true
   },
   "outputs": [],
   "source": [
    "from scipy import stats"
   ]
  },
  {
   "cell_type": "code",
   "execution_count": 48,
   "metadata": {
    "collapsed": true
   },
   "outputs": [],
   "source": [
    "def get_binned(array_object):\n",
    "    return list(stats.binned_statistic(array_object, array_object, statistic='count', bins=np.logspace(1.1,6.9,59)).statistic)"
   ]
  },
  {
   "cell_type": "code",
   "execution_count": 50,
   "metadata": {
    "collapsed": true
   },
   "outputs": [],
   "source": [
    "mRNA_mc_analysis_binned = {}\n",
    "prot_mc_analysis_binned = {}"
   ]
  },
  {
   "cell_type": "code",
   "execution_count": 51,
   "metadata": {
    "collapsed": true
   },
   "outputs": [],
   "source": [
    "for tup in mRNA_mc_analysis:\n",
    "    mRNA_mc_analysis_binned[tup] = get_binned(mRNA_mc_analysis[tup])\n",
    "    prot_mc_analysis_binned[tup] = get_binned(prot_mc_analysis[tup])"
   ]
  },
  {
   "cell_type": "code",
   "execution_count": 54,
   "metadata": {
    "collapsed": false
   },
   "outputs": [],
   "source": [
    "# # write out binned csv\n",
    "# with open('bree_mRNA_binned.csv', 'w') as out_file:\n",
    "#     out_file.write(','.join([''.join(map(str, digit)) for digit in product([0, 1], repeat=3)])+'\\n')\n",
    "#     for run in xrange(58):\n",
    "#         out_file.write(','.join(str(mRNA_mc_analysis_binned[tup][run]) for tup in product([0, 1], repeat=3))+'\\n')\n",
    "\n",
    "# with open('bree_prot_binned.csv', 'w') as out_file:\n",
    "#     out_file.write(','.join([''.join(map(str, digit)) for digit in product([0, 1], repeat=3)])+'\\n')\n",
    "#     for run in xrange(58):\n",
    "#         out_file.write(','.join(str(prot_mc_analysis_binned[tup][run]) for tup in product([0, 1], repeat=3))+'\\n')"
   ]
  },
  {
   "cell_type": "markdown",
   "metadata": {},
   "source": [
    "### For whole cell analysis"
   ]
  },
  {
   "cell_type": "code",
   "execution_count": 81,
   "metadata": {
    "collapsed": true
   },
   "outputs": [],
   "source": [
    "random.seed(1000)"
   ]
  },
  {
   "cell_type": "code",
   "execution_count": 82,
   "metadata": {
    "collapsed": true
   },
   "outputs": [],
   "source": [
    "# generate feature dictionary\n",
    "def gen_feature_dict_wc():\n",
    "    p1=random.randint(7, 13)\n",
    "    p2=random.randint(3, 7)\n",
    "    features={\n",
    "        #RNAP binding free energy, kcal/mol\n",
    "        'dG_RNAP':{\"offtarget\":-4*R*random.uniform(0.7, 1.3),\n",
    "                     \"Phlf\":-4.7*R*random.uniform(0.7, 1.3),\n",
    "                     \"Srpr\":-4.4*R*random.uniform(0.7, 1.3),\n",
    "                     \"BetI\":-4.7*R*random.uniform(0.7, 1.3),#\n",
    "                     \"HlyllR\":-4.7*R*random.uniform(0.7, 1.3),\n",
    "                     \"AmtR\":-4.8*R*random.uniform(0.7, 1.3),\n",
    "                     \"LacI\":-4.5*R*random.uniform(0.7, 1.3),#\n",
    "                     \"TetR\":-4.7*R*random.uniform(0.7, 1.3),#\n",
    "                     \"AraC\":-4.5*R*random.uniform(0.7, 1.3),#\n",
    "                     \"Con_A\":-4*R*random.uniform(0.7, 1.3),#\n",
    "                     \"Con_I\":-4*R*random.uniform(0.7, 1.3),#\n",
    "                     \"KanR\":-4*R*random.uniform(0.7, 1.3),#\n",
    "                     \"StrepR\":-4*R*random.uniform(0.7, 1.3)#\n",
    "                    },\n",
    "        #TF binding free energy, kcal/mol\n",
    "        'dG_TF':{\"offtarget\":-4*T*random.uniform(0.7, 1.3),\n",
    "                     \"Phlf\":-9*T*random.uniform(0.7, 1.3),\n",
    "                     \"Srpr\":-7.5*T*random.uniform(0.7, 1.3),\n",
    "                     \"BetI\":-8*T*random.uniform(0.7, 1.3),#\n",
    "                     \"HlyllR\":-6.5*T*random.uniform(0.7, 1.3),\n",
    "                     \"AmtR\":-9*T*random.uniform(0.7, 1.3),\n",
    "                     \"TetR\":-7.5*T*random.uniform(0.7, 1.3),#\n",
    "                     \"AraC\":-8*T*random.uniform(0.7, 1.3),#\n",
    "                     \"LacI\":-8*T*random.uniform(0.7, 1.3)#\n",
    "                    },\n",
    "        #inactive binding free energy\n",
    "        'dG_Inactive':{'TetR':-2.0*random.uniform(0.7, 1.3),#\n",
    "                      'LacI':-2.0*random.uniform(0.7, 1.3),#\n",
    "                      'AraC':-2.0*random.uniform(0.7, 1.3)},#\n",
    "        #mRNA deg rate, 1/min\n",
    "        'd_mRNA':{\"Phlf\":d_m*random.uniform(0.7, 1.3),#\n",
    "                      \"Srpr\":d_m*random.uniform(0.7, 1.3),#\n",
    "                      \"BetI\":d_m*random.uniform(0.7, 1.3),#\n",
    "                      \"HlyllR\":d_m*random.uniform(0.7, 1.3),#\n",
    "                      \"AmtR\":d_m*random.uniform(0.7, 1.3),#\n",
    "                      \"YFP\":d_m*random.uniform(0.7, 1.3),#\n",
    "                      \"LacI_TetR\":d_m*random.uniform(0.7, 1.3),#\n",
    "                      \"AraC\":d_m*random.uniform(0.7, 1.3),#\n",
    "                      \"KanR\":d_m*random.uniform(0.7, 1.3),#\n",
    "                      \"StrepR\":d_m*random.uniform(0.7, 1.3) #\n",
    "                    },\n",
    "        #Translation rate, protein/mRNA/min\n",
    "        'beta':{\"Phlf\":random.uniform(0.7, 1.3),#\n",
    "                      \"Srpr\":random.uniform(0.7, 1.3),#\n",
    "                      \"BetI\":random.uniform(0.7, 1.3),#\n",
    "                      \"HlyllR\":random.uniform(0.7, 1.3),#\n",
    "                      \"AmtR\":random.uniform(0.7, 1.3),#\n",
    "                      \"YFP\":random.uniform(0.7, 1.3),#\n",
    "                      \"LacI\":random.uniform(0.7, 1.3),#\n",
    "                      \"AraC\":random.uniform(0.7, 1.3),#\n",
    "                      \"TetR\":random.uniform(0.7, 1.3),#\n",
    "                      \"KanR\":random.uniform(0.7, 1.3),#\n",
    "                      \"StrepR\":random.uniform(0.7, 1.3)#\n",
    "                    },\n",
    "        #number of TF binding sites in promoter\n",
    "        'N_ontarget':{\"Phlf\":p2*random.uniform(0.7, 1.3),#\n",
    "                      \"Srpr\":p1*random.uniform(0.7, 1.3),#\n",
    "                      \"BetI\":p1*random.uniform(0.7, 1.3),#\n",
    "                      \"HlyllR\":2*p1*random.uniform(0.7, 1.3),#\n",
    "                      \"AmtR\":p2*random.uniform(0.7, 1.3),#\n",
    "                      \"LacI\":p1*random.uniform(0.7, 1.3),#\n",
    "                      \"TetR\":p1*random.uniform(0.7, 1.3),#\n",
    "                      \"AraC\":2*p1*random.uniform(0.7, 1.3),#\n",
    "                    }, #tbd\n",
    "        # number of free RNAP\n",
    "        'N_RNAP':750,#\n",
    "        # number of free Ribosomes\n",
    "        'N_RIBO':1000, #\n",
    "        #protein deg rates, 1/min\n",
    "        'd_Protein':{\"Phlf\":d_p*random.uniform(0.7, 1.3),#\n",
    "                      \"Srpr\":d_p*random.uniform(0.7, 1.3),#\n",
    "                      \"BetI\":d_p*random.uniform(0.7, 1.3),#\n",
    "                      \"HlyllR\":d_p*random.uniform(0.7, 1.3),#\n",
    "                      \"AmtR\":d_p*random.uniform(0.7, 1.3),#\n",
    "                      \"YFP\":d_p*random.uniform(0.7, 1.3),#\n",
    "                      \"LacI\":d_p*random.uniform(0.7, 1.3),#\n",
    "                      \"AraC\":d_p*random.uniform(0.7, 1.3),#\n",
    "                      \"TetR\":d_p*random.uniform(0.7, 1.3),#\n",
    "                      \"KanR\":d_p*random.uniform(0.7, 1.3),#\n",
    "                      \"StrepR\":d_p*random.uniform(0.7, 1.3)#\n",
    "                    }, #tbd\n",
    "        #growth rate, 1/min\n",
    "        'mu': math.log(2)/45 * random.uniform(0.7, 1.3), #tbd\n",
    "        #max promoter transcription rate mRNA/promoter/min\n",
    "        'a_max':{\"Phlf\":random.randint(2, 4)*factor,\n",
    "                      \"Srpr\":random.randint(2, 4)*factor,\n",
    "                      \"BetI\":random.uniform(1.5, 1.9)*factor,#\n",
    "                      \"HlyllR\":random.uniform(2.0, 3.0)*factor,\n",
    "                      \"AmtR\":random.uniform(1, 2)*factor,\n",
    "                      \"LacI\":random.uniform(1., 3.)*factor,#\n",
    "                      \"TetR\":random.randint(2, 4)*factor,#\n",
    "                      \"AraC\":random.randint(1, 3)*factor,#\n",
    "                      \"Con_A\":random.uniform(0.5, 1.5)*factor,\n",
    "                      \"Con_I\":random.uniform(0.5, 1.5)*factor,\n",
    "                      \"KanR\":random.uniform(1., 3.)*factor,\n",
    "                      \"StrepR\":random.uniform(1., 3.)*factor\n",
    "                    },\n",
    "        #genome length\n",
    "        'genome_len':4600000,\n",
    "        #copy number of circuit    \n",
    "        \"copy_number\":{\"Phlf\":p1*random.uniform(0.7, 1.3),\n",
    "                      \"Srpr\":p1*random.uniform(0.7, 1.3),\n",
    "                      \"BetI\":p1*random.uniform(0.7, 1.3),\n",
    "                      \"HlyllR\":p1*random.uniform(0.7, 1.3),\n",
    "                      \"AmtR\":p1*random.uniform(0.7, 1.3),\n",
    "                      \"YFP\":p2*random.uniform(0.7, 1.3),\n",
    "                      \"LacI_TetR\":p1*random.uniform(0.7, 1.3),\n",
    "                      \"AraC\":p1*random.uniform(0.7, 1.3),\n",
    "                      \"KanR\":p1*random.uniform(0.7, 1.3),\n",
    "                      \"StrepR\":p2*random.uniform(0.7, 1.3)},\n",
    "\n",
    "        #inducer concentrations used mM\n",
    "        'inducers':{'AraC':0,\n",
    "                    'TetR':0,\n",
    "                    'LacI':0\n",
    "                    },\n",
    "        #kd of inducers\n",
    "        'iKd':{'AraC': 0.05*random.uniform(0.7, 1.3),#\n",
    "               'LacI': 0.05*random.uniform(0.7, 1.3),#\n",
    "               'TetR':0.005*random.uniform(0.7, 1.3) #\n",
    "                    },\n",
    "r        # temperature\n",
    "        'T':310,\n",
    "\n",
    "        'co_op':{\"Phlf\":1*random.uniform(0.7, 1.3),#\n",
    "                      \"Srpr\":1*random.uniform(0.7, 1.3),#\n",
    "                      \"BetI\":1*random.uniform(0.7, 1.3),#\n",
    "                      \"HlyllR\":1*random.uniform(0.7, 1.3),#\n",
    "                      \"AmtR\":1*random.uniform(0.7, 1.3),#\n",
    "                      \"LacI\":1*random.uniform(0.7, 1.3),#\n",
    "                      \"TetR\":1*random.uniform(0.7, 1.3),#\n",
    "                      \"AraC\":2*random.uniform(0.7, 1.3),}\n",
    "    }\n",
    "    return features"
   ]
  },
  {
   "cell_type": "code",
   "execution_count": 152,
   "metadata": {
    "collapsed": false
   },
   "outputs": [],
   "source": [
    "def monte_carlo_wc(feature_fn=gen_feature_dict_wc):\n",
    "    random.seed(5000)\n",
    "    mRNA_mc_analysis = defaultdict(list)\n",
    "    prot_mc_analysis = defaultdict(list)\n",
    "    for run in xrange(runs):\n",
    "        if run % 10 == 0:\n",
    "            print run,\n",
    "        fd = feature_fn()\n",
    "        for i, j, k in product([0, 1], repeat=3):\n",
    "            y = solve_circuit([i, j, k], fd, verbose=False)\n",
    "            mRNA_mc_analysis[tuple([i, j, k])].append(y[:,29])\n",
    "            prot_mc_analysis[tuple([i, j, k])].append(y[:,30])\n",
    "    return mRNA_mc_analysis, prot_mc_analysis"
   ]
  },
  {
   "cell_type": "code",
   "execution_count": 153,
   "metadata": {
    "collapsed": false
   },
   "outputs": [
    {
     "name": "stdout",
     "output_type": "stream",
     "text": [
      "0 10 20 30 40 50 60 70 80 90 100 110 120 130 140 150 160 170 180 190 200 210 220 230 240 250 260 270 280 290 300 310 320 330 340 350 360 370 380 390 400 410 420 430 440 450 460 470 480 490 500 510 520 530 540 550 560 570 580 590 600 610 620 630 640 650 660 670 680 690 700 710 720 730 740 750 760 770 780 790 800 810 820 830 840 850 860 870 880 890 900 910 920 930 940 950 960 970 980 990 1000 1010 1020 1030 1040 1050 1060 1070 1080 1090 1100 1110 1120 1130 1140 1150 1160 1170 1180 1190 1200 1210 1220 1230 1240 1250 1260 1270 1280 1290 1300 1310 1320 1330 1340 1350 1360 1370 1380 1390 1400 1410 1420 1430 1440 1450 1460 1470 1480 1490 1500 1510 1520 1530 1540 1550 1560 1570 1580 1590 1600 1610 1620 1630 1640 1650 1660 1670 1680 1690 1700 1710 1720 1730 1740 1750 1760 1770 1780 1790 1800 1810 1820 1830 1840 1850 1860 1870 1880 1890 1900 1910 1920 1930 1940 1950 1960 1970 1980 1990 2000 2010 2020 2030 2040 2050 2060 2070 2080 2090 2100 2110 2120 2130 2140 2150 2160 2170 2180 2190 2200 2210 2220 2230 2240 2250 2260 2270 2280 2290 2300 2310 2320 2330 2340 2350 2360 2370 2380 2390 2400 2410 2420 2430 2440 2450 2460 2470 2480 2490 2500 2510 2520 2530 2540 2550 2560 2570 2580 2590 2600 2610 2620 2630 2640 2650 2660 2670 2680 2690 2700 2710 2720 2730 2740 2750 2760 2770 2780 2790 2800 2810 2820 2830 2840 2850 2860 2870 2880 2890 2900 2910 2920 2930 2940 2950 2960 2970 2980 2990 3000 3010 3020 3030 3040 3050 3060 3070 3080 3090 3100 3110 3120 3130 3140 3150 3160 3170 3180 3190 3200 3210 3220 3230 3240 3250 3260 3270 3280 3290 3300 3310 3320 3330 3340 3350 3360 3370 3380 3390 3400 3410 3420 3430 3440 3450 3460 3470 3480 3490 3500 3510 3520 3530 3540 3550 3560 3570 3580 3590 3600 3610 3620 3630 3640 3650 3660 3670 3680 3690 3700 3710 3720 3730 3740 3750 3760 3770 3780 3790 3800 3810 3820 3830 3840 3850 3860 3870 3880 3890 3900 3910 3920 3930 3940 3950 3960 3970 3980 3990 4000 4010 4020 4030 4040 4050 4060 4070 4080 4090 4100 4110 4120 4130 4140 4150 4160 4170 4180 4190 4200 4210 4220 4230 4240 4250 4260 4270 4280 4290 4300 4310 4320 4330 4340 4350 4360 4370 4380 4390 4400 4410 4420 4430 4440 4450 4460 4470 4480 4490 4500 4510 4520 4530 4540 4550 4560 4570 4580 4590 4600 4610 4620 4630 4640 4650 4660 4670 4680 4690 4700 4710 4720 4730 4740 4750 4760 4770 4780 4790 4800 4810 4820 4830 4840 4850 4860 4870 4880 4890 4900 4910 4920 4930 4940 4950 4960 4970 4980 4990\n"
     ]
    }
   ],
   "source": [
    "mRNA_mc_analysis_wc, prot_mc_analysis_wc = monte_carlo_wc()"
   ]
  },
  {
   "cell_type": "code",
   "execution_count": 157,
   "metadata": {
    "collapsed": false
   },
   "outputs": [
    {
     "data": {
      "text/plain": [
       "1000"
      ]
     },
     "execution_count": 157,
     "metadata": {},
     "output_type": "execute_result"
    }
   ],
   "source": [
    "len(mRNA_mc_analysis_wc[tuple([0, 0, 0])][0])"
   ]
  },
  {
   "cell_type": "code",
   "execution_count": 166,
   "metadata": {
    "collapsed": false
   },
   "outputs": [
    {
     "ename": "ImportError",
     "evalue": "No module named statistics",
     "output_type": "error",
     "traceback": [
      "\u001b[0;31m---------------------------------------------------------------------------\u001b[0m",
      "\u001b[0;31mImportError\u001b[0m                               Traceback (most recent call last)",
      "\u001b[0;32m<ipython-input-166-b3d1944f019d>\u001b[0m in \u001b[0;36m<module>\u001b[0;34m()\u001b[0m\n\u001b[0;32m----> 1\u001b[0;31m \u001b[1;32mimport\u001b[0m \u001b[0mstatistics\u001b[0m\u001b[1;33m\u001b[0m\u001b[0m\n\u001b[0m",
      "\u001b[0;31mImportError\u001b[0m: No module named statistics"
     ]
    }
   ],
   "source": [
    "import statistics"
   ]
  },
  {
   "cell_type": "code",
   "execution_count": 173,
   "metadata": {
    "collapsed": false
   },
   "outputs": [
    {
     "name": "stdout",
     "output_type": "stream",
     "text": [
      "(0, 0, 0)\n",
      "(0, 0, 1)\n",
      "(0, 1, 0)\n",
      "(0, 1, 1)\n",
      "(1, 0, 0)\n",
      "(1, 0, 1)\n",
      "(1, 1, 0)\n",
      "(1, 1, 1)\n"
     ]
    }
   ],
   "source": [
    "mRNA_final = {tuple(x): {'mean':[], 'mean+std':[], 'mean-std':[]} for x in product([0,1], repeat=3)}\n",
    "prot_final = {tuple(x): {'mean':[], 'mean+std':[], 'mean-std':[]} for x in product([0,1], repeat=3)}\n",
    "\n",
    "for tup in product([0,1], repeat=3):\n",
    "    print tup\n",
    "    for col in xrange(1000):\n",
    "        vec1 = []\n",
    "        vec2 = []\n",
    "        for row in xrange(5000):\n",
    "            vec1.append(mRNA_mc_analysis_wc[tup][row][col])\n",
    "            vec2.append(prot_mc_analysis_wc[tup][row][col])\n",
    "        \n",
    "        vec1 = np.array(vec1)\n",
    "        vec2 = np.array(vec2)\n",
    "        \n",
    "        mean = np.mean(vec1)\n",
    "        stdv = np.std(vec1)\n",
    "        mRNA_final[tup]['mean-std'].append(mean-stdv)\n",
    "        mRNA_final[tup]['mean'].append(mean)\n",
    "        mRNA_final[tup]['mean+std'].append(mean+stdv)\n",
    "        \n",
    "        mean = np.mean(vec2)\n",
    "        stdv = np.std(vec2)\n",
    "        prot_final[tup]['mean-std'].append(mean-stdv)\n",
    "        prot_final[tup]['mean'].append(mean)\n",
    "        prot_final[tup]['mean+std'].append(mean+stdv)"
   ]
  },
  {
   "cell_type": "code",
   "execution_count": 174,
   "metadata": {
    "collapsed": true
   },
   "outputs": [],
   "source": [
    "x_labels = range(1000)"
   ]
  },
  {
   "cell_type": "code",
   "execution_count": 198,
   "metadata": {
    "collapsed": false
   },
   "outputs": [
    {
     "ename": "AttributeError",
     "evalue": "'numpy.ndarray' object has no attribute 'xlim'",
     "output_type": "error",
     "traceback": [
      "\u001b[0;31m---------------------------------------------------------------------------\u001b[0m",
      "\u001b[0;31mAttributeError\u001b[0m                            Traceback (most recent call last)",
      "\u001b[0;32m<ipython-input-198-610693c75e97>\u001b[0m in \u001b[0;36m<module>\u001b[0;34m()\u001b[0m\n\u001b[1;32m     13\u001b[0m \u001b[0max\u001b[0m\u001b[1;33m[\u001b[0m\u001b[1;36m1\u001b[0m\u001b[1;33m,\u001b[0m \u001b[1;36m1\u001b[0m\u001b[1;33m]\u001b[0m\u001b[1;33m.\u001b[0m\u001b[0mfill_between\u001b[0m\u001b[1;33m(\u001b[0m\u001b[0mx_labels\u001b[0m\u001b[1;33m,\u001b[0m \u001b[0mprot_final\u001b[0m\u001b[1;33m[\u001b[0m\u001b[1;33m(\u001b[0m\u001b[1;36m1\u001b[0m\u001b[1;33m,\u001b[0m \u001b[1;36m0\u001b[0m\u001b[1;33m,\u001b[0m \u001b[1;36m0\u001b[0m\u001b[1;33m)\u001b[0m\u001b[1;33m]\u001b[0m\u001b[1;33m[\u001b[0m\u001b[1;34m'mean-std'\u001b[0m\u001b[1;33m]\u001b[0m\u001b[1;33m,\u001b[0m \u001b[0mprot_final\u001b[0m\u001b[1;33m[\u001b[0m\u001b[1;33m(\u001b[0m\u001b[1;36m1\u001b[0m\u001b[1;33m,\u001b[0m \u001b[1;36m0\u001b[0m\u001b[1;33m,\u001b[0m \u001b[1;36m0\u001b[0m\u001b[1;33m)\u001b[0m\u001b[1;33m]\u001b[0m\u001b[1;33m[\u001b[0m\u001b[1;34m'mean+std'\u001b[0m\u001b[1;33m]\u001b[0m\u001b[1;33m,\u001b[0m \u001b[0malpha\u001b[0m\u001b[1;33m=\u001b[0m\u001b[1;36m0.3\u001b[0m\u001b[1;33m)\u001b[0m\u001b[1;33m\u001b[0m\u001b[0m\n\u001b[1;32m     14\u001b[0m \u001b[1;33m\u001b[0m\u001b[0m\n\u001b[0;32m---> 15\u001b[0;31m \u001b[0max\u001b[0m\u001b[1;33m.\u001b[0m\u001b[0mxlim\u001b[0m\u001b[1;33m(\u001b[0m\u001b[1;33m[\u001b[0m\u001b[1;36m0\u001b[0m\u001b[1;33m,\u001b[0m \u001b[1;36m3000\u001b[0m\u001b[1;33m]\u001b[0m\u001b[1;33m)\u001b[0m\u001b[1;33m\u001b[0m\u001b[0m\n\u001b[0m\u001b[1;32m     16\u001b[0m \u001b[0mplt\u001b[0m\u001b[1;33m.\u001b[0m\u001b[0mshow\u001b[0m\u001b[1;33m(\u001b[0m\u001b[1;33m)\u001b[0m\u001b[1;33m\u001b[0m\u001b[0m\n",
      "\u001b[0;31mAttributeError\u001b[0m: 'numpy.ndarray' object has no attribute 'xlim'"
     ]
    },
    {
     "data": {
      "image/png": "[encoded data removed]",
      "text/plain": [
       "<matplotlib.figure.Figure at 0x26a6b3240>"
      ]
     },
     "metadata": {},
     "output_type": "display_data"
    }
   ],
   "source": [
    "fig, axes = plt.subplots(2, 2, figsize=(24, 12))\n",
    "\n",
    "axes[0, 0].set_title('IPTG (100)', fontdict={'fontsize':22})\n",
    "axes[0, 0].plot(x_labels, prot_final[(1, 0, 0)]['mean'], label=x_labels)\n",
    "axes[0, 0].fill_between(x_labels, prot_final[(1, 0, 0)]['mean-std'], prot_final[(1, 0, 0)]['mean+std'], alpha=0.3)\n",
    "\n",
    "axes[0, 1].set_title('aTc (111)', fontdict={'fontsize':22})\n",
    "axes[0, 1].plot(x_labels, prot_final[(0, 1, 0)]['mean'], label=x_labels)\n",
    "axes[0, 1].fill_between(x_labels, prot_final[(0, 1, 0)]['mean-std'], prot_final[(0, 1, 0)]['mean+std'], alpha=0.3)\n",
    "\n",
    "axes[1, 0].set_title('IPTG + aTc + Ara (111)', fontdict={'fontsize':22})\n",
    "axes[1, 0].plot(x_labels, prot_final[(0, 0, 1)]['mean'], label=x_labels)\n",
    "axes[1, 0].fill_between(x_labels, prot_final[(0, 0, 1)]['mean-std'], prot_final[(0, 0, 1)]['mean+std'], alpha=0.3)\n",
    "\n",
    "axes[1, 1].set_title('IPTG + aTc + Ara (111)', fontdict={'fontsize':22})\n",
    "axes[1, 1].plot(x_labels, prot_final[(0, 0, 0)]['mean'], label=x_labels)\n",
    "axes[1, 1].fill_between(x_labels, prot_final[(1, 0, 0)]['mean-std'], prot_final[(1, 0, 0)]['mean+std'], alpha=0.3)\n",
    "\n",
    "axes.xlim([0, 3000])\n",
    "plt.show()"
   ]
  },
  {
   "cell_type": "code",
   "execution_count": null,
   "metadata": {
    "collapsed": true
   },
   "outputs": [],
   "source": []
  },
  {
   "cell_type": "code",
   "execution_count": null,
   "metadata": {
    "collapsed": true
   },
   "outputs": [],
   "source": []
  },
  {
   "cell_type": "code",
   "execution_count": null,
   "metadata": {
    "collapsed": true
   },
   "outputs": [],
   "source": []
  },
  {
   "cell_type": "code",
   "execution_count": null,
   "metadata": {
    "collapsed": true
   },
   "outputs": [],
   "source": []
  },
  {
   "cell_type": "code",
   "execution_count": null,
   "metadata": {
    "collapsed": true
   },
   "outputs": [],
   "source": []
  },
  {
   "cell_type": "code",
   "execution_count": null,
   "metadata": {
    "collapsed": true
   },
   "outputs": [],
   "source": []
  }
 ],
 "metadata": {
  "kernelspec": {
   "display_name": "Python [default]",
   "language": "python",
   "name": "python2"
  },
  "language_info": {
   "codemirror_mode": {
    "name": "ipython",
    "version": 2
   },
   "file_extension": ".py",
   "mimetype": "text/x-python",
   "name": "python",
   "nbconvert_exporter": "python",
   "pygments_lexer": "ipython2",
   "version": "2.7.13"
  }
 },
 "nbformat": 4,
 "nbformat_minor": 2
}
